{
 "cells": [
  {
   "cell_type": "code",
   "execution_count": 2,
   "metadata": {},
   "outputs": [
    {
     "name": "stdout",
     "output_type": "stream",
     "text": [
      "Collecting snowflake-connector-python\n",
      "  Using cached snowflake_connector_python-3.16.0-cp311-cp311-macosx_11_0_arm64.whl.metadata (71 kB)\n",
      "Collecting asn1crypto<2.0.0,>0.24.0 (from snowflake-connector-python)\n",
      "  Using cached asn1crypto-1.5.1-py2.py3-none-any.whl.metadata (13 kB)\n",
      "Collecting boto3>=1.24 (from snowflake-connector-python)\n",
      "  Using cached boto3-1.39.3-py3-none-any.whl.metadata (6.6 kB)\n",
      "Collecting botocore>=1.24 (from snowflake-connector-python)\n",
      "  Using cached botocore-1.39.3-py3-none-any.whl.metadata (5.7 kB)\n",
      "Requirement already satisfied: cffi<2.0.0,>=1.9 in /Users/raufboudenne/.pyenv/versions/3.11.11/lib/python3.11/site-packages (from snowflake-connector-python) (1.17.1)\n",
      "Requirement already satisfied: cryptography>=3.1.0 in /Users/raufboudenne/.pyenv/versions/3.11.11/lib/python3.11/site-packages (from snowflake-connector-python) (43.0.3)\n",
      "Collecting pyOpenSSL<26.0.0,>=22.0.0 (from snowflake-connector-python)\n",
      "  Using cached pyopenssl-25.1.0-py3-none-any.whl.metadata (17 kB)\n",
      "Requirement already satisfied: pyjwt<3.0.0 in /Users/raufboudenne/.pyenv/versions/3.11.11/lib/python3.11/site-packages (from snowflake-connector-python) (2.10.1)\n",
      "Requirement already satisfied: pytz in /Users/raufboudenne/.pyenv/versions/3.11.11/lib/python3.11/site-packages (from snowflake-connector-python) (2024.2)\n",
      "Requirement already satisfied: requests<3.0.0 in /Users/raufboudenne/.pyenv/versions/3.11.11/lib/python3.11/site-packages (from snowflake-connector-python) (2.31.0)\n",
      "Requirement already satisfied: packaging in /Users/raufboudenne/.pyenv/versions/3.11.11/lib/python3.11/site-packages (from snowflake-connector-python) (24.1)\n",
      "Requirement already satisfied: charset_normalizer<4,>=2 in /Users/raufboudenne/.pyenv/versions/3.11.11/lib/python3.11/site-packages (from snowflake-connector-python) (3.3.2)\n",
      "Requirement already satisfied: idna<4,>=2.5 in /Users/raufboudenne/.pyenv/versions/3.11.11/lib/python3.11/site-packages (from snowflake-connector-python) (3.10)\n",
      "Requirement already satisfied: certifi>=2017.4.17 in /Users/raufboudenne/.pyenv/versions/3.11.11/lib/python3.11/site-packages (from snowflake-connector-python) (2024.8.30)\n",
      "Requirement already satisfied: typing_extensions<5,>=4.3 in /Users/raufboudenne/.pyenv/versions/3.11.11/lib/python3.11/site-packages (from snowflake-connector-python) (4.12.2)\n",
      "Requirement already satisfied: filelock<4,>=3.5 in /Users/raufboudenne/.pyenv/versions/3.11.11/lib/python3.11/site-packages (from snowflake-connector-python) (3.18.0)\n",
      "Collecting sortedcontainers>=2.4.0 (from snowflake-connector-python)\n",
      "  Using cached sortedcontainers-2.4.0-py2.py3-none-any.whl.metadata (10 kB)\n",
      "Requirement already satisfied: platformdirs<5.0.0,>=2.6.0 in /Users/raufboudenne/.pyenv/versions/3.11.11/lib/python3.11/site-packages (from snowflake-connector-python) (4.3.6)\n",
      "Requirement already satisfied: tomlkit in /Users/raufboudenne/.pyenv/versions/3.11.11/lib/python3.11/site-packages (from snowflake-connector-python) (0.13.2)\n",
      "Requirement already satisfied: pycparser in /Users/raufboudenne/.pyenv/versions/3.11.11/lib/python3.11/site-packages (from cffi<2.0.0,>=1.9->snowflake-connector-python) (2.22)\n",
      "Requirement already satisfied: urllib3<3,>=1.21.1 in /Users/raufboudenne/.pyenv/versions/3.11.11/lib/python3.11/site-packages (from requests<3.0.0->snowflake-connector-python) (2.2.3)\n",
      "Collecting jmespath<2.0.0,>=0.7.1 (from boto3>=1.24->snowflake-connector-python)\n",
      "  Using cached jmespath-1.0.1-py3-none-any.whl.metadata (7.6 kB)\n",
      "Collecting s3transfer<0.14.0,>=0.13.0 (from boto3>=1.24->snowflake-connector-python)\n",
      "  Using cached s3transfer-0.13.0-py3-none-any.whl.metadata (1.7 kB)\n",
      "Requirement already satisfied: python-dateutil<3.0.0,>=2.1 in /Users/raufboudenne/.pyenv/versions/3.11.11/lib/python3.11/site-packages (from botocore>=1.24->snowflake-connector-python) (2.9.0.post0)\n",
      "Requirement already satisfied: six>=1.5 in /Users/raufboudenne/.pyenv/versions/3.11.11/lib/python3.11/site-packages (from python-dateutil<3.0.0,>=2.1->botocore>=1.24->snowflake-connector-python) (1.16.0)\n",
      "Using cached snowflake_connector_python-3.16.0-cp311-cp311-macosx_11_0_arm64.whl (993 kB)\n",
      "Using cached asn1crypto-1.5.1-py2.py3-none-any.whl (105 kB)\n",
      "Using cached pyopenssl-25.1.0-py3-none-any.whl (56 kB)\n",
      "Using cached boto3-1.39.3-py3-none-any.whl (139 kB)\n",
      "Using cached botocore-1.39.3-py3-none-any.whl (13.8 MB)\n",
      "Using cached jmespath-1.0.1-py3-none-any.whl (20 kB)\n",
      "Using cached s3transfer-0.13.0-py3-none-any.whl (85 kB)\n",
      "Using cached sortedcontainers-2.4.0-py2.py3-none-any.whl (29 kB)\n",
      "Installing collected packages: sortedcontainers, asn1crypto, jmespath, botocore, s3transfer, pyOpenSSL, boto3, snowflake-connector-python\n",
      "\u001b[2K   \u001b[90m━━━━━━━━━━━━━━━━━━━━━━━━━━━━━━━━━━━━━━━━\u001b[0m \u001b[32m8/8\u001b[0m [snowflake-connector-python]-connector-python]\n",
      "\u001b[1A\u001b[2KSuccessfully installed asn1crypto-1.5.1 boto3-1.39.3 botocore-1.39.3 jmespath-1.0.1 pyOpenSSL-25.1.0 s3transfer-0.13.0 snowflake-connector-python-3.16.0 sortedcontainers-2.4.0\n"
     ]
    }
   ],
   "source": [
    "!pip install snowflake-connector-python"
   ]
  },
  {
   "cell_type": "code",
   "execution_count": 3,
   "metadata": {},
   "outputs": [
    {
     "name": "stderr",
     "output_type": "stream",
     "text": [
      "/Users/raufboudenne/.pyenv/versions/3.11.11/lib/python3.11/site-packages/snowflake/connector/options.py:104: UserWarning: You have an incompatible version of 'pyarrow' installed (19.0.0), please install a version that adheres to: 'pyarrow<19.0.0; extra == \"pandas\"'\n",
      "  warn_incompatible_dep(\n"
     ]
    },
    {
     "name": "stdout",
     "output_type": "stream",
     "text": [
      "(1,)\n"
     ]
    }
   ],
   "source": [
    "import snowflake.connector\n",
    "\n",
    "conn = snowflake.connector.connect(\n",
    "    user='python_user',\n",
    "    password='Firefox9331#',\n",
    "    account='ougyvyo-os36807',  # e.g. 'xy12345.us-east-2.aws'\n",
    "    warehouse='COMPUTE_WH',\n",
    "    database='CHATTY_HOTEL_VOYAGER',\n",
    "    schema='dbo'\n",
    ")\n",
    "\n",
    "cur = conn.cursor()\n",
    "cur.execute(\"SELECT 1;\")\n",
    "print(cur.fetchone())"
   ]
  },
  {
   "cell_type": "code",
   "execution_count": null,
   "metadata": {},
   "outputs": [],
   "source": []
  }
 ],
 "metadata": {
  "kernelspec": {
   "display_name": "Python 3",
   "language": "python",
   "name": "python3"
  },
  "language_info": {
   "codemirror_mode": {
    "name": "ipython",
    "version": 3
   },
   "file_extension": ".py",
   "mimetype": "text/x-python",
   "name": "python",
   "nbconvert_exporter": "python",
   "pygments_lexer": "ipython3",
   "version": "3.11.11"
  }
 },
 "nbformat": 4,
 "nbformat_minor": 2
}
