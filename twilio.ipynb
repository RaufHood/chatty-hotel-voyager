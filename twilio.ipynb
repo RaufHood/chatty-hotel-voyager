{
 "cells": [
  {
   "cell_type": "code",
   "execution_count": null,
   "id": "3f7e21f7",
   "metadata": {},
   "outputs": [],
   "source": [
    "!pip install twilio\n",
    "from twilio.rest import Client"
   ]
  },
  {
   "cell_type": "markdown",
   "id": "5b698a12",
   "metadata": {},
   "source": [
    "Account SID\n",
    "ACe639b2e0704bb2974eafa9c8b8d6341c\n",
    "\n",
    "Auth Token\n",
    "b9ffffa03955a226ff7a0b4068950ad4\n",
    "\n",
    "My Twilio phone number\n",
    "+14133941293\n"
   ]
  },
  {
   "cell_type": "code",
   "execution_count": 5,
   "id": "fb087532",
   "metadata": {},
   "outputs": [
    {
     "name": "stdout",
     "output_type": "stream",
     "text": [
      "Sent from your Twilio trial account - Join Earth's mightiest heroes. Like Kevin.\n"
     ]
    }
   ],
   "source": [
    "# Download the helper library from https://www.twilio.com/docs/python/install\n",
    "import twilio\n",
    "import os\n",
    "from twilio.rest import Client\n",
    "\n",
    "# Find your Account SID and Auth Token at twilio.com/console\n",
    "# and set the environment variables. See http://twil.io/secure\n",
    "# It's better to use environment variable names, not the actual values.\n",
    "\n",
    "account_sid = os.environ.get(\"TWILIO_ACCOUNT_SID\", \"ACe639b2e0704bb2974eafa9c8b8d6341c\")\n",
    "auth_token = os.environ.get(\"TWILIO_AUTH_TOKEN\", \"b9ffffa03955a226ff7a0b4068950ad4\")\n",
    "client = Client(account_sid, auth_token)\n",
    "\n",
    "message = client.messages.create(\n",
    "    body=\"Join Earth's mightiest heroes. Like Kevin.\",\n",
    "    from_=\"+14133941293\",\n",
    "    to=\"+923061582057\",\n",
    ")\n",
    "\n",
    "print(message.body)"
   ]
  }
 ],
 "metadata": {
  "kernelspec": {
   "display_name": "Python 3",
   "language": "python",
   "name": "python3"
  },
  "language_info": {
   "codemirror_mode": {
    "name": "ipython",
    "version": 3
   },
   "file_extension": ".py",
   "mimetype": "text/x-python",
   "name": "python",
   "nbconvert_exporter": "python",
   "pygments_lexer": "ipython3",
   "version": "3.10.9"
  }
 },
 "nbformat": 4,
 "nbformat_minor": 5
}
